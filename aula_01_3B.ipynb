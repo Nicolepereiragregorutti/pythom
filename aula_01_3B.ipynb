{
  "nbformat": 4,
  "nbformat_minor": 0,
  "metadata": {
    "colab": {
      "provenance": [],
      "authorship_tag": "ABX9TyOZntgibabnsdxY6HPCTY/o",
      "include_colab_link": true
    },
    "kernelspec": {
      "name": "python3",
      "display_name": "Python 3"
    },
    "language_info": {
      "name": "python"
    }
  },
  "cells": [
    {
      "cell_type": "markdown",
      "metadata": {
        "id": "view-in-github",
        "colab_type": "text"
      },
      "source": [
        "<a href=\"https://colab.research.google.com/github/Nicolepereiragregorutti/pythom/blob/main/aula_01_3B.ipynb\" target=\"_parent\"><img src=\"https://colab.research.google.com/assets/colab-badge.svg\" alt=\"Open In Colab\"/></a>"
      ]
    },
    {
      "cell_type": "markdown",
      "source": [
        "exemplo 1- somando 2 números"
      ],
      "metadata": {
        "id": "bVx_80sMFiid"
      }
    },
    {
      "cell_type": "code",
      "execution_count": 2,
      "metadata": {
        "colab": {
          "base_uri": "https://localhost:8080/"
        },
        "id": "Rr-Qqjc0EtC-",
        "outputId": "46c0f329-b09c-4165-8474-7b3fc152e73a"
      },
      "outputs": [
        {
          "output_type": "execute_result",
          "data": {
            "text/plain": [
              "22"
            ]
          },
          "metadata": {},
          "execution_count": 2
        }
      ],
      "source": [
        "n1=12\n",
        "n2=10\n",
        "soma = n1 + n2\n",
        "soma"
      ]
    },
    {
      "cell_type": "code",
      "source": [
        "print(\"a soma é:\", soma)"
      ],
      "metadata": {
        "colab": {
          "base_uri": "https://localhost:8080/"
        },
        "id": "wSZNwPUHGT3r",
        "outputId": "d2cad6c1-1f16-492c-fbc3-be3236d062c6"
      },
      "execution_count": 3,
      "outputs": [
        {
          "output_type": "stream",
          "name": "stdout",
          "text": [
            "a soma é: 22\n"
          ]
        }
      ]
    },
    {
      "cell_type": "code",
      "source": [
        "print(\"A soma é {}\".format(soma))"
      ],
      "metadata": {
        "colab": {
          "base_uri": "https://localhost:8080/"
        },
        "id": "gX1qr82VGnwS",
        "outputId": "455a2b9a-b859-4f16-93b6-e670a03ca02a"
      },
      "execution_count": 9,
      "outputs": [
        {
          "output_type": "stream",
          "name": "stdout",
          "text": [
            "A soma é 22\n"
          ]
        }
      ]
    },
    {
      "cell_type": "code",
      "source": [
        "print(\"A soma de {} com {} é {}\".format(n1,n2,soma))"
      ],
      "metadata": {
        "colab": {
          "base_uri": "https://localhost:8080/"
        },
        "id": "YwWoxILhHnPh",
        "outputId": "acb02e4e-e9b9-497e-cfdc-835c2bf929a2"
      },
      "execution_count": 12,
      "outputs": [
        {
          "output_type": "stream",
          "name": "stdout",
          "text": [
            "A soma de 12 com 10 é 22\n"
          ]
        }
      ]
    },
    {
      "cell_type": "markdown",
      "source": [
        "operadoes aritimédicos"
      ],
      "metadata": {
        "id": "gqK_p0PXIGMa"
      }
    },
    {
      "cell_type": "code",
      "source": [
        "10+10"
      ],
      "metadata": {
        "colab": {
          "base_uri": "https://localhost:8080/"
        },
        "id": "3Si_p1nEIMIa",
        "outputId": "60110099-f801-4d16-9d30-33cd658d5f5d"
      },
      "execution_count": 13,
      "outputs": [
        {
          "output_type": "execute_result",
          "data": {
            "text/plain": [
              "20"
            ]
          },
          "metadata": {},
          "execution_count": 13
        }
      ]
    },
    {
      "cell_type": "code",
      "source": [
        "10-5"
      ],
      "metadata": {
        "colab": {
          "base_uri": "https://localhost:8080/"
        },
        "id": "nIk1WeInIWJy",
        "outputId": "8cb62f3b-ff9d-4837-a395-e8f15d8f281e"
      },
      "execution_count": 14,
      "outputs": [
        {
          "output_type": "execute_result",
          "data": {
            "text/plain": [
              "5"
            ]
          },
          "metadata": {},
          "execution_count": 14
        }
      ]
    },
    {
      "cell_type": "code",
      "source": [
        "10*2"
      ],
      "metadata": {
        "colab": {
          "base_uri": "https://localhost:8080/"
        },
        "id": "uuUK991FIYIC",
        "outputId": "9796c668-29ef-456b-8bbf-aa01324257a3"
      },
      "execution_count": 16,
      "outputs": [
        {
          "output_type": "execute_result",
          "data": {
            "text/plain": [
              "20"
            ]
          },
          "metadata": {},
          "execution_count": 16
        }
      ]
    },
    {
      "cell_type": "code",
      "source": [
        "10/3"
      ],
      "metadata": {
        "colab": {
          "base_uri": "https://localhost:8080/"
        },
        "id": "ymzZkgXzIdUi",
        "outputId": "b62e7c4c-5de0-4f85-ce74-c7b37de42a9b"
      },
      "execution_count": 17,
      "outputs": [
        {
          "output_type": "execute_result",
          "data": {
            "text/plain": [
              "3.3333333333333335"
            ]
          },
          "metadata": {},
          "execution_count": 17
        }
      ]
    },
    {
      "cell_type": "code",
      "source": [
        "10//3"
      ],
      "metadata": {
        "colab": {
          "base_uri": "https://localhost:8080/"
        },
        "id": "U2pqqG4zIg_R",
        "outputId": "06fa7182-e986-4d82-b754-9a8ab470e9fa"
      },
      "execution_count": 19,
      "outputs": [
        {
          "output_type": "execute_result",
          "data": {
            "text/plain": [
              "3"
            ]
          },
          "metadata": {},
          "execution_count": 19
        }
      ]
    },
    {
      "cell_type": "code",
      "source": [
        "10%2"
      ],
      "metadata": {
        "colab": {
          "base_uri": "https://localhost:8080/"
        },
        "id": "3SwDdrP7JIGF",
        "outputId": "ad936220-884d-4b75-b47d-947d04938ee6"
      },
      "execution_count": 20,
      "outputs": [
        {
          "output_type": "execute_result",
          "data": {
            "text/plain": [
              "0"
            ]
          },
          "metadata": {},
          "execution_count": 20
        }
      ]
    },
    {
      "cell_type": "code",
      "source": [
        "2**3"
      ],
      "metadata": {
        "colab": {
          "base_uri": "https://localhost:8080/"
        },
        "id": "odpSN_sVJMXF",
        "outputId": "09e3e8bc-cd28-4fb2-ab36-8ca80ad7869c"
      },
      "execution_count": 21,
      "outputs": [
        {
          "output_type": "execute_result",
          "data": {
            "text/plain": [
              "8"
            ]
          },
          "metadata": {},
          "execution_count": 21
        }
      ]
    },
    {
      "cell_type": "code",
      "source": [
        "64**(1/2)"
      ],
      "metadata": {
        "colab": {
          "base_uri": "https://localhost:8080/"
        },
        "id": "3RDAvqtpJfIS",
        "outputId": "b6039adc-0f5a-496a-aadc-18f5ed6f6beb"
      },
      "execution_count": 22,
      "outputs": [
        {
          "output_type": "execute_result",
          "data": {
            "text/plain": [
              "8.0"
            ]
          },
          "metadata": {},
          "execution_count": 22
        }
      ]
    },
    {
      "cell_type": "markdown",
      "source": [
        "operadores lógicos"
      ],
      "metadata": {
        "id": "MX62q6W4J1wB"
      }
    },
    {
      "cell_type": "code",
      "source": [
        "a = true\n",
        "b = false"
      ],
      "metadata": {
        "id": "S6Tmsk4uKBuR"
      },
      "execution_count": null,
      "outputs": []
    },
    {
      "cell_type": "markdown",
      "source": [
        "![image.png](data:image/png;base64,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)"
      ],
      "metadata": {
        "id": "yOhKtutTMuDh"
      }
    },
    {
      "cell_type": "markdown",
      "source": [
        "operadores relacioais"
      ],
      "metadata": {
        "id": "u3v6fOhlNGtP"
      }
    },
    {
      "cell_type": "code",
      "source": [
        "10>10"
      ],
      "metadata": {
        "colab": {
          "base_uri": "https://localhost:8080/"
        },
        "id": "Ob-AwT-fNLZj",
        "outputId": "ea8dd03d-00bf-4beb-e187-0e50215c624e"
      },
      "execution_count": 24,
      "outputs": [
        {
          "output_type": "execute_result",
          "data": {
            "text/plain": [
              "False"
            ]
          },
          "metadata": {},
          "execution_count": 24
        }
      ]
    },
    {
      "cell_type": "code",
      "source": [
        "'A'=='a'"
      ],
      "metadata": {
        "colab": {
          "base_uri": "https://localhost:8080/"
        },
        "id": "81ekD4LzNja4",
        "outputId": "b9f8c656-a1ef-49c1-e62c-d5a6c55cab1c"
      },
      "execution_count": 25,
      "outputs": [
        {
          "output_type": "execute_result",
          "data": {
            "text/plain": [
              "False"
            ]
          },
          "metadata": {},
          "execution_count": 25
        }
      ]
    },
    {
      "cell_type": "code",
      "source": [],
      "metadata": {
        "id": "eK6aAbDzNwPh"
      },
      "execution_count": null,
      "outputs": []
    },
    {
      "cell_type": "code",
      "source": [
        "t1 = 10\n",
        "t2 ='10'\n",
        "t1 == t2"
      ],
      "metadata": {
        "colab": {
          "base_uri": "https://localhost:8080/"
        },
        "id": "FP1zAobxOcz2",
        "outputId": "d5a99bcc-309e-4896-a02c-c35e2dc99237"
      },
      "execution_count": 27,
      "outputs": [
        {
          "output_type": "execute_result",
          "data": {
            "text/plain": [
              "False"
            ]
          },
          "metadata": {},
          "execution_count": 27
        }
      ]
    },
    {
      "cell_type": "code",
      "source": [
        "type(t1)"
      ],
      "metadata": {
        "colab": {
          "base_uri": "https://localhost:8080/"
        },
        "id": "FOS2dH79O3i_",
        "outputId": "e9174456-2b21-48cf-d17d-66285ef1cee5"
      },
      "execution_count": 28,
      "outputs": [
        {
          "output_type": "execute_result",
          "data": {
            "text/plain": [
              "int"
            ]
          },
          "metadata": {},
          "execution_count": 28
        }
      ]
    },
    {
      "cell_type": "markdown",
      "source": [
        "convesão de tipos"
      ],
      "metadata": {
        "id": "kakQelXUPIIv"
      }
    },
    {
      "cell_type": "code",
      "source": [
        "novo_t2 = int(t2)\n",
        "novo_t2"
      ],
      "metadata": {
        "colab": {
          "base_uri": "https://localhost:8080/"
        },
        "id": "yBsVdlyXPK26",
        "outputId": "0b9c8541-7627-449b-c4b8-4da28a15f79a"
      },
      "execution_count": 29,
      "outputs": [
        {
          "output_type": "execute_result",
          "data": {
            "text/plain": [
              "10"
            ]
          },
          "metadata": {},
          "execution_count": 29
        }
      ]
    },
    {
      "cell_type": "code",
      "source": [
        "type(novo_t2)"
      ],
      "metadata": {
        "colab": {
          "base_uri": "https://localhost:8080/"
        },
        "id": "wOTLcWwEPnXm",
        "outputId": "b0cde601-bd48-4e13-b7fc-35cea9bc0d95"
      },
      "execution_count": 30,
      "outputs": [
        {
          "output_type": "execute_result",
          "data": {
            "text/plain": [
              "int"
            ]
          },
          "metadata": {},
          "execution_count": 30
        }
      ]
    },
    {
      "cell_type": "code",
      "source": [
        "t1 == novo_t2"
      ],
      "metadata": {
        "colab": {
          "base_uri": "https://localhost:8080/"
        },
        "id": "XYmsv1rYPrN_",
        "outputId": "48a5ccac-734b-491a-fd34-04eb532cb685"
      },
      "execution_count": 32,
      "outputs": [
        {
          "output_type": "execute_result",
          "data": {
            "text/plain": [
              "True"
            ]
          },
          "metadata": {},
          "execution_count": 32
        }
      ]
    },
    {
      "cell_type": "markdown",
      "source": [
        "recebendo dados via input"
      ],
      "metadata": {
        "id": "GAOvqp7OP4Te"
      }
    },
    {
      "cell_type": "code",
      "source": [
        "nome = input ('Digite seu nome')"
      ],
      "metadata": {
        "colab": {
          "base_uri": "https://localhost:8080/"
        },
        "id": "y2dmcgp1P-OP",
        "outputId": "fc51e8b4-0840-4b51-c2c1-ba79e81df1a1"
      },
      "execution_count": 33,
      "outputs": [
        {
          "name": "stdout",
          "output_type": "stream",
          "text": [
            "Digite su nomeNicole\n"
          ]
        }
      ]
    },
    {
      "cell_type": "code",
      "source": [
        "nome"
      ],
      "metadata": {
        "colab": {
          "base_uri": "https://localhost:8080/",
          "height": 35
        },
        "id": "Kqal8IXXQS6u",
        "outputId": "dfd3e82c-6949-4fee-e603-4944082b3f79"
      },
      "execution_count": 34,
      "outputs": [
        {
          "output_type": "execute_result",
          "data": {
            "text/plain": [
              "'Nicole'"
            ],
            "application/vnd.google.colaboratory.intrinsic+json": {
              "type": "string"
            }
          },
          "metadata": {},
          "execution_count": 34
        }
      ]
    },
    {
      "cell_type": "code",
      "source": [
        "idade = int(input ('Digite a sua idade'))"
      ],
      "metadata": {
        "colab": {
          "base_uri": "https://localhost:8080/"
        },
        "id": "-B_wKUH8QUNT",
        "outputId": "c98f671c-470b-42d0-eaee-ce1456332144"
      },
      "execution_count": 43,
      "outputs": [
        {
          "name": "stdout",
          "output_type": "stream",
          "text": [
            "Digite a sua idade40\n"
          ]
        }
      ]
    },
    {
      "cell_type": "code",
      "source": [
        "type (idade)"
      ],
      "metadata": {
        "colab": {
          "base_uri": "https://localhost:8080/"
        },
        "id": "jrR13aQ0Qax3",
        "outputId": "9034bdc4-b293-4acb-f8fd-bffad27c629b"
      },
      "execution_count": 38,
      "outputs": [
        {
          "output_type": "execute_result",
          "data": {
            "text/plain": [
              "int"
            ]
          },
          "metadata": {},
          "execution_count": 38
        }
      ]
    },
    {
      "cell_type": "code",
      "source": [
        "ano = 2023 - idade"
      ],
      "metadata": {
        "id": "O1XrqFEvRbS-"
      },
      "execution_count": 44,
      "outputs": []
    },
    {
      "cell_type": "code",
      "source": [
        "ano"
      ],
      "metadata": {
        "colab": {
          "base_uri": "https://localhost:8080/"
        },
        "id": "S6nVZDnvRguU",
        "outputId": "f6955c6b-04d5-43bf-af86-2b4c7b0b50ef"
      },
      "execution_count": 45,
      "outputs": [
        {
          "output_type": "execute_result",
          "data": {
            "text/plain": [
              "1983"
            ]
          },
          "metadata": {},
          "execution_count": 45
        }
      ]
    },
    {
      "cell_type": "code",
      "source": [
        "print(\"seu nome é {} sua idade é {} anos e você nasceu no ano de {}\".format(nome,idade,ano))"
      ],
      "metadata": {
        "colab": {
          "base_uri": "https://localhost:8080/"
        },
        "id": "DFRwnBUNQhzo",
        "outputId": "054fc96c-1b8a-4ff3-92e6-12ed3fb8401f"
      },
      "execution_count": 48,
      "outputs": [
        {
          "output_type": "stream",
          "name": "stdout",
          "text": [
            "seu nome é Nicole sua idade é 40 anos e você nasceu no ano de 1983\n"
          ]
        }
      ]
    },
    {
      "cell_type": "markdown",
      "source": [
        "exercio 01\n",
        "receba 3 vaores digitados via teclado e calcule a média destes valores.Exiba na tela da seguinte forma:'média dos valores digitados é xxx'"
      ],
      "metadata": {
        "id": "BXb54a8FTqSL"
      }
    },
    {
      "cell_type": "code",
      "source": [
        "n1=8\n",
        "n2=2\n",
        "n3=4\n",
        "media=(n1+n2+n3)/3\n",
        "media"
      ],
      "metadata": {
        "colab": {
          "base_uri": "https://localhost:8080/"
        },
        "id": "5ziXyQ1DUdnW",
        "outputId": "5ea3720e-5a9f-4011-ae96-9b39cad00ec9"
      },
      "execution_count": 59,
      "outputs": [
        {
          "output_type": "execute_result",
          "data": {
            "text/plain": [
              "4.666666666666667"
            ]
          },
          "metadata": {},
          "execution_count": 59
        }
      ]
    },
    {
      "cell_type": "code",
      "source": [
        "num1 = float(input('Digite o 1 numero: '))\n",
        "num2 = float(input('Digite o 2 numero:'))\n",
        "num3 = float(input('Digite o 2 numero:'))\n",
        "media= (num1+num2+num3)/3\n",
        "print('A media é: {}'.format(media))"
      ],
      "metadata": {
        "colab": {
          "base_uri": "https://localhost:8080/"
        },
        "id": "WXdaxo2IVX9e",
        "outputId": "c56e81d2-9aa4-4be0-fa8f-62c659920803"
      },
      "execution_count": 67,
      "outputs": [
        {
          "output_type": "stream",
          "name": "stdout",
          "text": [
            "Digite o 1 numero: 2\n",
            "Digite o 2 numero:3\n",
            "Digite o 2 numero:4\n",
            "A media é: 3.0\n"
          ]
        }
      ]
    },
    {
      "cell_type": "code",
      "source": [
        "print('A media é {}'.format(round(media,2)))"
      ],
      "metadata": {
        "colab": {
          "base_uri": "https://localhost:8080/"
        },
        "id": "sRiXSo9DeFFe",
        "outputId": "354cd662-bd1e-4ba6-fff1-03e597be1754"
      },
      "execution_count": 68,
      "outputs": [
        {
          "output_type": "stream",
          "name": "stdout",
          "text": [
            "A media é 3.0\n"
          ]
        }
      ]
    },
    {
      "cell_type": "markdown",
      "source": [
        "exercicio 2\n",
        "solicite a largura de uma parede sabendo que 1 litro consegue pintar 2m de parede, informe quantos litros de tinta serão necessários para pintar a parede informada"
      ],
      "metadata": {
        "id": "Q8jpvG7VgzZI"
      }
    },
    {
      "cell_type": "code",
      "source": [
        "alt= float(input('Digite a altura'))\n",
        "lar= float(input('digite a largura '))\n",
        "area=alt*lar\n",
        "\n",
        "L=area/2\n",
        "\n",
        "print(\"será necessário {} litros de tinta para cobrir uma parede de {} metros de altura e {} metros de largura \".format(L,alt,lar))\n"
      ],
      "metadata": {
        "colab": {
          "base_uri": "https://localhost:8080/"
        },
        "id": "gLwzkLAzeY-2",
        "outputId": "cec5ef45-8b90-4ceb-c2f8-1d2c68515a5a"
      },
      "execution_count": 87,
      "outputs": [
        {
          "output_type": "stream",
          "name": "stdout",
          "text": [
            "Digite a altura10\n",
            "digite a largura 5\n",
            "será necessário 25.0 litros de tinta para cobrir uma parede de 10.0 metros de altura e 5.0 metros de largura \n"
          ]
        }
      ]
    }
  ]
}